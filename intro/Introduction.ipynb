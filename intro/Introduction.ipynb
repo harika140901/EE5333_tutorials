{
  "nbformat": 4,
  "nbformat_minor": 0,
  "metadata": {
    "colab": {
      "provenance": [],
      "authorship_tag": "ABX9TyMzwIEYxc9tukBpttgWolyy",
      "include_colab_link": true
    },
    "kernelspec": {
      "name": "python3",
      "display_name": "Python 3"
    },
    "language_info": {
      "name": "python"
    }
  },
  "cells": [
    {
      "cell_type": "markdown",
      "metadata": {
        "id": "view-in-github",
        "colab_type": "text"
      },
      "source": [
        "<a href=\"https://colab.research.google.com/github/srini229/EE5333_tutorials/blob/master/intro/Introduction.ipynb\" target=\"_parent\"><img src=\"https://colab.research.google.com/assets/colab-badge.svg\" alt=\"Open In Colab\"/></a>"
      ]
    },
    {
      "cell_type": "markdown",
      "source": [
        "# <ins>**Set cover problem**</ins>\n",
        "\n",
        "## Problem definition:\n",
        "<ul>\n",
        "$\\mathcal{U}$ : Universe = set of elements, $\\{0,1,2,\\ldots,N-1\\}$\n",
        "\n",
        "$\\mathcal{S}$ : collection of subsets of $\\mathcal{U}$\n",
        "\n",
        "$\\mathcal{C}$ : set cover is a subset of $\\mathcal{S}$ with smallest cardinality whose union is $\\mathcal{U}$\n",
        "</ul>\n",
        "\n",
        "## Example:\n",
        "<ul>\n",
        "$\\mathcal{U}=\\{0,1,2,3,4\\},~\\mathcal{S}=\\{\\{0,1\\},\\{1,2,3\\},\\{3,4\\},\\{0,1,4\\}\\}$\n",
        "\n",
        "$\\mathcal{C}=\\{\\{1,2,3\\},\\{0,1,4\\}\\}$\n",
        "</ul>"
      ],
      "metadata": {
        "id": "XCytbYEc3vm7"
      }
    },
    {
      "cell_type": "markdown",
      "source": [
        "# ILP formulation\n",
        "* $x_s$ is an indicator variable for $s\\in \\mathcal{S}$ being in $\\mathcal{C}$; $\\small x_s = \\begin{cases}0,& i \\notin \\mathcal{C}\\\\1,& i \\in \\mathcal{C}\t\\end{cases}$\n",
        "\n",
        "* Objective:\n",
        "  $\\min\\limits_{x_s} \\sum\\limits_{s\\in \\mathcal{S}}x_s$\n",
        "\n",
        "* Subject to constraints:\n",
        "\n",
        "  $\\begin{align} \\sum\\limits_{s:i\\in s}x_s &\\geq 1,&\\forall i \\in \\mathcal{U}\\\\\n",
        "x_s &\\in \\{0,1\\}, &\\forall s \\in \\mathcal{S}\n",
        "\\end{align}$\n",
        "\n",
        "\n",
        "\n"
      ],
      "metadata": {
        "id": "zrViEx0G4dAJ"
      }
    },
    {
      "cell_type": "code",
      "source": [
        "# Install the mip package inside the colab environment\n",
        "%pip install mip"
      ],
      "metadata": {
        "colab": {
          "base_uri": "https://localhost:8080/"
        },
        "id": "TUJPEQax7d1D",
        "outputId": "ba221f69-356d-40a2-d7a0-dd7ba8bcdfd3"
      },
      "execution_count": null,
      "outputs": [
        {
          "output_type": "stream",
          "name": "stdout",
          "text": [
            "Requirement already satisfied: mip in /usr/local/lib/python3.10/dist-packages (1.15.0)\n",
            "Requirement already satisfied: cffi==1.15.* in /usr/local/lib/python3.10/dist-packages (from mip) (1.15.1)\n",
            "Requirement already satisfied: pycparser in /usr/local/lib/python3.10/dist-packages (from cffi==1.15.*->mip) (2.21)\n"
          ]
        }
      ]
    },
    {
      "cell_type": "code",
      "source": [
        "# N : number of vertices; vertices in {0,1,...(N-1)}\n",
        "# S : list of tuples\n",
        "# Return value : set cover as a list of tuples\n",
        "\n",
        "def findSetCover(N, S):\n",
        "    import mip\n",
        "    model = mip.Model(\"SetCover\")\n",
        "    model.verbose = 0 # turn off Cbc console logs\n",
        "    x = [model.add_var(var_type=mip.BINARY,\\\n",
        "        name=f\"x_{s}\") for s in range(len(S))]\n",
        "    model.objective = mip.minimize(mip.xsum(x))\n",
        "    occ = [[] for _ in range(N)]\n",
        "    for i in range(len(S)):\n",
        "      for j in S[i]: # store the set indices to which i belongs\n",
        "        occ[j].append(i)\n",
        "    for xi in occ:\n",
        "      model += mip.xsum(x[i] for i in xi) >= 1\n",
        "    model.optimize()\n",
        "    model.write('set_cover.lp')\n",
        "    if model.status == mip.OptimizationStatus.OPTIMAL:\n",
        "        return [S[i] for i in range(len(S)) if x[i].x > 0.9]\n",
        "    return []\n"
      ],
      "metadata": {
        "id": "klffLF8Y7W6C"
      },
      "execution_count": null,
      "outputs": []
    },
    {
      "cell_type": "code",
      "source": [
        "print(findSetCover(5, [(0,1), (1,2,3), (3,4), (0,1,4)]))"
      ],
      "metadata": {
        "colab": {
          "base_uri": "https://localhost:8080/"
        },
        "id": "X1KpuT1M7bW9",
        "outputId": "6cfa15d5-76ff-46bc-a8e5-2f69f9776d18"
      },
      "execution_count": null,
      "outputs": [
        {
          "output_type": "stream",
          "name": "stdout",
          "text": [
            "[(1, 2, 3), (0, 1, 4)]\n"
          ]
        }
      ]
    },
    {
      "cell_type": "code",
      "source": [
        "!cat set_cover.lp"
      ],
      "metadata": {
        "colab": {
          "base_uri": "https://localhost:8080/"
        },
        "id": "GExE3tiY9Emr",
        "outputId": "a583d34f-c1a6-4afc-eac2-c65149fbc737"
      },
      "execution_count": null,
      "outputs": [
        {
          "output_type": "stream",
          "name": "stdout",
          "text": [
            "\\Problem name: SetCover\n",
            "\n",
            "Minimize\n",
            "OBJROW: x_0 + x_1 + x_2 + x_3\n",
            "Subject To\n",
            "constr(0):  x_0 + x_3 >= 1\n",
            "constr(1):  x_0 + x_1 + x_3 >= 1\n",
            "constr(2):  x_1 >= 1\n",
            "constr(3):  x_1 + x_2 >= 1\n",
            "constr(4):  x_2 + x_3 >= 1\n",
            "Bounds\n",
            " 0 <= x_0 <= 1\n",
            " 0 <= x_1 <= 1\n",
            " 0 <= x_2 <= 1\n",
            " 0 <= x_3 <= 1\n",
            "Integers\n",
            "x_0 x_1 x_2 x_3 \n",
            "End\n"
          ]
        }
      ]
    }
  ]
}